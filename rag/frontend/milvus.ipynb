{
 "cells": [
  {
   "cell_type": "code",
   "execution_count": 22,
   "metadata": {},
   "outputs": [],
   "source": [
    "import os\n",
    "import glob\n",
    "import pymilvus\n",
    "from typing import List\n",
    "\n",
    "from langchain.document_loaders import (\n",
    "    CSVLoader,\n",
    "    EverNoteLoader,\n",
    "    PyMuPDFLoader,\n",
    "    TextLoader,\n",
    "    UnstructuredEPubLoader,\n",
    "    UnstructuredHTMLLoader,\n",
    "    UnstructuredMarkdownLoader,\n",
    "    UnstructuredODTLoader,\n",
    "    UnstructuredPowerPointLoader,\n",
    "    UnstructuredWordDocumentLoader,\n",
    ")\n",
    "\n",
    "from langchain.text_splitter import RecursiveCharacterTextSplitter\n",
    "from langchain.vectorstores import Milvus\n",
    "from langchain.embeddings import HuggingFaceEmbeddings\n",
    "from langchain.docstore.document import Document"
   ]
  },
  {
   "cell_type": "code",
   "execution_count": 16,
   "metadata": {},
   "outputs": [],
   "source": [
    "db_url = os.environ.get('DB_URL', 'http://127.0.0.1:19530')\n",
    "source_directory = os.environ.get('SOURCE_DIRECTORY', 'source_documents')\n",
    "embeddings_model_name = os.environ.get('EMBEDDINGS_MODEL_NAME', 'all-MiniLM-L6-v2')\n",
    "chunk_size = 500\n",
    "chunk_overlap = 50\n",
    "collection_name = 'LangChainCollection'"
   ]
  },
  {
   "cell_type": "code",
   "execution_count": 17,
   "metadata": {},
   "outputs": [],
   "source": [
    "LOADER_MAPPING = {\n",
    "    \".csv\": (CSVLoader, {}),\n",
    "    \".doc\": (UnstructuredWordDocumentLoader, {}),\n",
    "    \".docx\": (UnstructuredWordDocumentLoader, {}),\n",
    "    \".enex\": (EverNoteLoader, {}),\n",
    "    \".epub\": (UnstructuredEPubLoader, {}),\n",
    "    \".html\": (UnstructuredHTMLLoader, {}),\n",
    "    \".md\": (UnstructuredMarkdownLoader, {}),\n",
    "    \".odt\": (UnstructuredODTLoader, {}),\n",
    "    \".pdf\": (PyMuPDFLoader, {}),\n",
    "    \".ppt\": (UnstructuredPowerPointLoader, {}),\n",
    "    \".pptx\": (UnstructuredPowerPointLoader, {}),\n",
    "    \".txt\": (TextLoader, {\"encoding\": \"utf8\"}),\n",
    "    # Add more mappings for other file extensions and loaders as needed\n",
    "}"
   ]
  },
  {
   "cell_type": "code",
   "execution_count": 18,
   "metadata": {},
   "outputs": [],
   "source": [
    "embeddings = HuggingFaceEmbeddings(model_name=embeddings_model_name)\n",
    "db = Milvus(connection_args={\"uri\": db_url}, embedding_function=embeddings)"
   ]
  },
  {
   "cell_type": "code",
   "execution_count": 21,
   "metadata": {},
   "outputs": [],
   "source": [
    "def get_db_connection(embeddings: HuggingFaceEmbeddings) -> Milvus:\n",
    "    address = db_url\n",
    "    if address.startswith('http://'):\n",
    "        address = address[len('http://'):]\n",
    "    elif address.startswith('https://'):\n",
    "        address = address[len('https://'):]\n",
    "    return Milvus(connection_args={'address': address}, embedding_function=embeddings)\n",
    "\n",
    "def get_existing_sources() -> List[str]:\n",
    "    pymilvus.connections.connect(uri=db_url)\n",
    "    try:\n",
    "        collection = pymilvus.Collection(collection_name)\n",
    "    except pymilvus.exceptions.SchemaNotReadyException:\n",
    "        return []\n",
    "    collection.load()\n",
    "    sources = []\n",
    "    query_iterator = collection.query_iterator(100, 65536, '', ['source'])\n",
    "    while True:\n",
    "        docs = query_iterator.next()\n",
    "        if len(docs) == 0:\n",
    "            break\n",
    "        for doc in docs:\n",
    "            source = doc.get(\"source\")\n",
    "            if source not in sources:\n",
    "                sources.append(source)\n",
    "    return sources"
   ]
  },
  {
   "cell_type": "code",
   "execution_count": null,
   "metadata": {},
   "outputs": [],
   "source": [
    "all_files = []\n",
    "for ext in LOADER_MAPPING:\n",
    "    all_files.extend(\n",
    "        glob.glob(os.path.join(source_directory, f\"**/*{ext}\"), recursive=True)\n",
    "    )\n",
    "documents = []\n",
    "for _, file_path in enumerate(all_files):\n",
    "    ext = \".\" + file_path.rsplit(\".\", 1)[-1]\n",
    "    if ext not in LOADER_MAPPING:\n",
    "        print(f\"Unsupported file extension '{ext}'\")\n",
    "        continue\n",
    "    print(f\"Loading {file_path}\")\n",
    "    loader_class, loader_args = LOADER_MAPPING[ext]\n",
    "    loader = loader_class(file_path, **loader_args)\n",
    "    documents.extend(loader.load())\n",
    "texts = RecursiveCharacterTextSplitter(chunk_size=chunk_size, chunk_overlap=chunk_overlap).split_documents(documents)\n",
    "texts"
   ]
  },
  {
   "cell_type": "code",
   "execution_count": null,
   "metadata": {},
   "outputs": [],
   "source": [
    "db.add_documents(texts)"
   ]
  }
 ],
 "metadata": {
  "kernelspec": {
   "display_name": "venv",
   "language": "python",
   "name": "python3"
  },
  "language_info": {
   "codemirror_mode": {
    "name": "ipython",
    "version": 3
   },
   "file_extension": ".py",
   "mimetype": "text/x-python",
   "name": "python",
   "nbconvert_exporter": "python",
   "pygments_lexer": "ipython3",
   "version": "3.11.7"
  }
 },
 "nbformat": 4,
 "nbformat_minor": 2
}
